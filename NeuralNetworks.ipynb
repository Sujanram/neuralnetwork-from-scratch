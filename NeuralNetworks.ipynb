{
 "cells": [
  {
   "cell_type": "code",
   "execution_count": null,
   "metadata": {},
   "outputs": [],
   "source": [
    "import numpy as np"
   ]
  },
  {
   "cell_type": "code",
   "execution_count": null,
   "metadata": {},
   "outputs": [],
   "source": [
    "class NeuralNetwork:\n",
    "\n",
    "    \n",
    "    def __init__(self,X,y):\n",
    "        #X will be features (in numpy array of dim=2)\n",
    "        #y will be target (in numpy array of dim=2)\n",
    "        self.inputs  = X\n",
    "        self.outputs = y.T\n",
    "        # letus intialise intial weights as 0.5\n",
    "        weit=[[0.5]]*X.shape[1]\n",
    "        self.weights = np.array(weit)\n",
    "        self.error_history = []\n",
    "    \n",
    "\n",
    "    #here we use sigmoid function as a activation function\n",
    "    #activation  function which activates perceptron\n",
    "    \n",
    "    def sigmoid(self, x):\n",
    "        return 1 / (1 + np.exp(-x))\n",
    "    def sigmoid_derv(self,x):\n",
    "        return x * (1 - x)\n",
    "\n",
    "    # feeding forward\n",
    "    def feed_forward(self):\n",
    "        self.hidden = self.sigmoid(np.dot(self.inputs, self.weights))\n",
    "\n",
    "    # back propogation\n",
    "    #in this step we take out error and adjust weigths\n",
    "    \n",
    "    def backpropagation(self):\n",
    "        self.error  = self.outputs - self.hidden\n",
    "        delta = self.error * self.sigmoid_derv(self.hidden)\n",
    "        self.weights += np.dot(self.inputs.T, delta)\n",
    "\n",
    "    #fit the train data in the neural network.\n",
    "    \n",
    "    def fit(self, epochs=500):\n",
    "        for epoch in range(epochs):\n",
    "            self.feed_forward()\n",
    "            self.backpropagation()    \n",
    "            # keep track of the error history over each epoch\n",
    "            self.error_history.append(np.average(np.abs(self.error)))\n",
    "            \n",
    "\n",
    "    # function to predict output on new and unseen input data                               \n",
    "    def predict(self, new_input):\n",
    "        prediction = self.sigmoid(np.dot(new_input, self.weights))\n",
    "        return prediction\n"
   ]
  },
  {
   "cell_type": "code",
   "execution_count": null,
   "metadata": {},
   "outputs": [],
   "source": [
    "#let us take some of the examples\n",
    "X=[[1,0,0],[0,1,0],[1,1,1],[1,0,1],[0,1,1]]\n",
    "y=[[1,0,0,1,0]]\n",
    "X=np.array(X,ndmin=2)\n",
    "y=np.array(y,ndmin=2)"
   ]
  },
  {
   "cell_type": "code",
   "execution_count": null,
   "metadata": {},
   "outputs": [],
   "source": [
    "nn=NeuralNetwork(X,y)"
   ]
  },
  {
   "cell_type": "code",
   "execution_count": null,
   "metadata": {},
   "outputs": [],
   "source": [
    "nn.fit(epochs=1000)"
   ]
  },
  {
   "cell_type": "code",
   "execution_count": null,
   "metadata": {},
   "outputs": [],
   "source": [
    "test=[[0,0,0],[0,0,1],[1,1,0]]\n",
    "pred=nn.predict(test)"
   ]
  },
  {
   "cell_type": "code",
   "execution_count": null,
   "metadata": {},
   "outputs": [],
   "source": [
    "pred=np.where(pred>=0.5,1,0)"
   ]
  },
  {
   "cell_type": "code",
   "execution_count": null,
   "metadata": {},
   "outputs": [],
   "source": [
    "l=nn.error_history"
   ]
  },
  {
   "cell_type": "code",
   "execution_count": null,
   "metadata": {},
   "outputs": [],
   "source": [
    "import matplotlib.pyplot as plt\n",
    "%matplotlib inline"
   ]
  },
  {
   "cell_type": "code",
   "execution_count": null,
   "metadata": {},
   "outputs": [],
   "source": [
    "plt.plot(range(len(l)),l,'-')\n",
    "plt.xlabel('epochs')\n",
    "plt.ylabel('error')\n"
   ]
  },
  {
   "cell_type": "code",
   "execution_count": null,
   "metadata": {},
   "outputs": [],
   "source": []
  }
 ],
 "metadata": {
  "kernelspec": {
   "display_name": "Python 3",
   "language": "python",
   "name": "python3"
  },
  "language_info": {
   "codemirror_mode": {
    "name": "ipython",
    "version": 3
   },
   "file_extension": ".py",
   "mimetype": "text/x-python",
   "name": "python",
   "nbconvert_exporter": "python",
   "pygments_lexer": "ipython3",
   "version": "3.7.4"
  }
 },
 "nbformat": 4,
 "nbformat_minor": 2
}
